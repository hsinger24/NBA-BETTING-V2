{
 "cells": [
  {
   "cell_type": "code",
   "execution_count": 2,
   "metadata": {},
   "outputs": [],
   "source": [
    "import pandas as pd\n",
    "import numpy as np\n",
    "from selenium import webdriver\n",
    "from selenium.webdriver.common.keys import Keys\n",
    "from selenium.webdriver.chrome.options import Options\n",
    "from selenium.webdriver.common.by import By\n",
    "from selenium.webdriver.support import expected_conditions as EC\n",
    "from selenium.webdriver.support.ui import WebDriverWait\n",
    "from selenium.webdriver.support.ui import Select\n",
    "from webdriver_manager.chrome import ChromeDriverManager\n",
    "from selenium.webdriver.common.action_chains import ActionChains\n",
    "from sklearn.linear_model import LinearRegression\n",
    "import pickle\n",
    "# from Model_Build.Functions import *"
   ]
  },
  {
   "cell_type": "code",
   "execution_count": 41,
   "metadata": {},
   "outputs": [],
   "source": [
    "years = [2019, 2018, 2017, 2016, 2015, 2014]\n",
    "dataset_columns = ['Player', 'G', 'MP', 'PER', 'TS%', '3PAr', 'FTr', 'ORB%', 'DRB%', \n",
    "                  'TRB%', 'AST%', 'STL%', 'BLK%', 'TOV%', 'USG%', 'OWS', 'DWS', 'WS', 'WS/48',\n",
    "                  'OBPM', 'DBPM', 'BPM', 'VORP_Prior_Year']\n",
    "dataset = pd.DataFrame(columns = dataset_columns)\n",
    "\n",
    "for year in years:\n",
    "    # Getting VORP for a given year\n",
    "    tables = pd.read_html(f'https://www.basketball-reference.com/leagues/NBA_{str(year)}_advanced.html')\n",
    "    table = tables[0]\n",
    "    table = table[['Player', 'Tm', 'VORP']]\n",
    "    table.columns = ['Player', 'Team', 'VORP']\n",
    "    table = table[table.Team != 'Tm']\n",
    "    table.Team.unique()\n",
    "    table['VORP'] = table.VORP.apply(pd.to_numeric)\n",
    "    player_vorp = table.groupby('Player')['VORP'].sum()\n",
    "    player_vorp = pd.DataFrame(player_vorp)\n",
    "    player_vorp.reset_index(drop = False, inplace = True)\n",
    "    player_vorp.columns = ['Player', 'VORP']\n",
    "    player_vorp['Year'] = year\n",
    "    \n",
    "    # Getting predictive advanced stats from the prior year\n",
    "    tables = pd.read_html(f'https://www.basketball-reference.com/leagues/NBA_{str(year-1)}_advanced.html')\n",
    "    table = tables[0]\n",
    "    table = table[['Player', 'Tm', 'G', 'MP', 'PER', 'TS%', '3PAr', 'FTr', 'ORB%', 'DRB%', \n",
    "                  'TRB%', 'AST%', 'STL%', 'BLK%', 'TOV%', 'USG%', 'OWS', 'DWS', 'WS', 'WS/48',\n",
    "                  'OBPM', 'DBPM', 'BPM', 'VORP']]\n",
    "    table.columns = ['Player', 'Team', 'G', 'MP', 'PER', 'TS%', '3PAr', 'FTr', 'ORB%', 'DRB%', \n",
    "                  'TRB%', 'AST%', 'STL%', 'BLK%', 'TOV%', 'USG%', 'OWS', 'DWS', 'WS', 'WS/48',\n",
    "                  'OBPM', 'DBPM', 'BPM', 'VORP_Prior_Year']\n",
    "    table = table[table.Team != 'Tm']\n",
    "    columns = ['G', 'MP', 'PER', 'TS%', '3PAr', 'FTr', 'ORB%', 'DRB%', \n",
    "                  'TRB%', 'AST%', 'STL%', 'BLK%', 'TOV%', 'USG%', 'OWS', 'DWS', 'WS', 'WS/48',\n",
    "                  'OBPM', 'DBPM', 'BPM', 'VORP_Prior_Year']\n",
    "    for column in columns:\n",
    "        table[column] = table[column].apply(pd.to_numeric)\n",
    "    player_predictive = table.groupby('Player').agg({'G' : 'sum', 'MP' : 'sum', 'PER' : 'mean', \n",
    "                                                    'TS%' : 'mean', '3PAr' : 'mean', 'FTr' : 'mean', \n",
    "                                                    'ORB%' : 'mean', 'DRB%' : 'mean', 'TRB%' : 'mean', \n",
    "                                                    'AST%' : 'mean', 'STL%' : 'mean', 'BLK%' : 'mean', \n",
    "                                                    'TOV%' : 'mean', 'USG%' : 'mean', 'OWS' : 'sum', \n",
    "                                                    'DWS' : 'sum', 'WS' : 'sum', 'WS/48' : 'mean', \n",
    "                                                    'OBPM' : 'sum', 'DBPM' : 'sum', 'BPM' : 'sum',\n",
    "                                                    'VORP_Prior_Year' : 'sum'})\n",
    "    player_predictive = pd.DataFrame(player_predictive)\n",
    "    player_predictive.reset_index(drop = False, inplace = True)\n",
    "    player_predictive.columns = ['Player', 'G', 'MP', 'PER', 'TS%', '3PAr', 'FTr', 'ORB%', 'DRB%', \n",
    "                  'TRB%', 'AST%', 'STL%', 'BLK%', 'TOV%', 'USG%', 'OWS', 'DWS', 'WS', 'WS/48',\n",
    "                  'OBPM', 'DBPM', 'BPM', 'VORP_Prior_Year']\n",
    "    \n",
    "    # Merging VORP with prior year's predictive stats\n",
    "    merged = pd.merge(player_vorp, player_predictive, on = 'Player', how = 'inner')\n",
    "    \n",
    "    # Appending to full dataset\n",
    "    dataset = dataset.append(merged)\n",
    "    "
   ]
  },
  {
   "cell_type": "code",
   "execution_count": 43,
   "metadata": {},
   "outputs": [
    {
     "name": "stdout",
     "output_type": "stream",
     "text": [
      "The y-intercept is:  -0.3333749401270538\n",
      "The slope is:  [-7.43465733e-03  2.47456113e-04  6.27825867e-02 -1.89825549e+00\n",
      "  4.51246345e-01  3.40079986e-01 -2.95758986e-02  1.10759602e-02\n",
      "  9.85909313e-03  1.07487963e-04  1.01704747e-01  5.39183238e-02\n",
      "  9.16884158e-03  7.77248797e-03  8.19926264e-01  7.71525087e-01\n",
      " -8.06070692e-01  6.06415441e-01  2.40724719e-01  2.39743028e-01\n",
      " -2.68998642e-01  5.77639472e-01]\n",
      "The r-squared is:  0.5761333188317022\n"
     ]
    }
   ],
   "source": [
    "    x = dataset[['G', 'MP', 'PER', 'TS%', '3PAr', 'FTr', 'ORB%', 'DRB%', \n",
    "                'TRB%', 'AST%', 'STL%', 'BLK%', 'TOV%', 'USG%', 'OWS', 'DWS', 'WS', 'WS/48',\n",
    "                'OBPM', 'DBPM', 'BPM', 'VORP_Prior_Year']]\n",
    "    y = dataset.VORP\n",
    "    model = LinearRegression()\n",
    "    model.fit(x,y)\n",
    "    r_squared = model.score(x,y)\n",
    "    print('The y-intercept is: ', model.intercept_)\n",
    "    print('The slope is: ', model.coef_)\n",
    "    print('The r-squared is: ', r_squared)"
   ]
  },
  {
   "cell_type": "code",
   "execution_count": 44,
   "metadata": {},
   "outputs": [],
   "source": [
    "# Saving model to data folder\n",
    "file_name = 'Model_Build/Data/predict_vorp_regression.pickle'\n",
    "with open(file_name, 'wb') as f:\n",
    "    pickle.dump(model, f)"
   ]
  }
 ],
 "metadata": {
  "kernelspec": {
   "display_name": "Python 3",
   "language": "python",
   "name": "python3"
  },
  "language_info": {
   "codemirror_mode": {
    "name": "ipython",
    "version": 3
   },
   "file_extension": ".py",
   "mimetype": "text/x-python",
   "name": "python",
   "nbconvert_exporter": "python",
   "pygments_lexer": "ipython3",
   "version": "3.7.6"
  }
 },
 "nbformat": 4,
 "nbformat_minor": 4
}
