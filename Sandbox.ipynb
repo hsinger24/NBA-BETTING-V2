{
 "cells": [
  {
   "cell_type": "code",
   "execution_count": 24,
   "metadata": {},
   "outputs": [],
   "source": [
    "import pandas as pd\n",
    "import numpy as np\n",
    "from selenium import webdriver\n",
    "from selenium.webdriver.common.keys import Keys\n",
    "from selenium.webdriver.chrome.options import Options\n",
    "from selenium.webdriver.common.by import By\n",
    "from selenium.webdriver.support import expected_conditions as EC\n",
    "from selenium.webdriver.support.ui import WebDriverWait\n",
    "from selenium.webdriver.support.ui import Select\n",
    "from webdriver_manager.chrome import ChromeDriverManager\n",
    "from selenium.webdriver.common.action_chains import ActionChains\n",
    "from sklearn.linear_model import LinearRegression\n",
    "import pickle\n",
    "# from Model_Build.Functions import *"
   ]
  },
  {
   "cell_type": "code",
   "execution_count": 5,
   "metadata": {},
   "outputs": [],
   "source": [
    "tables = pd.read_html('https://www.teamrankings.com/nba/stat/points-per-game?date=2019-10-12')"
   ]
  },
  {
   "cell_type": "code",
   "execution_count": 11,
   "metadata": {},
   "outputs": [
    {
     "name": "stderr",
     "output_type": "stream",
     "text": [
      "/Users/hsinger24/Desktop/Programming/anaconda3/lib/python3.7/site-packages/ipykernel_launcher.py:10: SettingWithCopyWarning: \n",
      "A value is trying to be set on a copy of a slice from a DataFrame.\n",
      "Try using .loc[row_indexer,col_indexer] = value instead\n",
      "\n",
      "See the caveats in the documentation: https://pandas.pydata.org/pandas-docs/stable/user_guide/indexing.html#returning-a-view-versus-a-copy\n",
      "  # Remove the CWD from sys.path while we load stuff.\n",
      "/Users/hsinger24/Desktop/Programming/anaconda3/lib/python3.7/site-packages/ipykernel_launcher.py:11: SettingWithCopyWarning: \n",
      "A value is trying to be set on a copy of a slice from a DataFrame.\n",
      "Try using .loc[row_indexer,col_indexer] = value instead\n",
      "\n",
      "See the caveats in the documentation: https://pandas.pydata.org/pandas-docs/stable/user_guide/indexing.html#returning-a-view-versus-a-copy\n",
      "  # This is added back by InteractiveShellApp.init_path()\n"
     ]
    },
    {
     "name": "stdout",
     "output_type": "stream",
     "text": [
      "            Team  Points_Scored_PG  Points_Scored  Year\n",
      "0      Milwaukee             117.3         9618.6  2019\n",
      "1   Golden State             116.9         9585.8  2019\n",
      "2    New Orleans             115.4         9462.8  2019\n",
      "3    LA Clippers             115.1         9438.2  2019\n",
      "4   Philadelphia             114.4         9380.8  2019\n",
      "..           ...               ...            ...   ...\n",
      "25       Memphis              93.6         7675.2  2013\n",
      "26     Charlotte              93.4         7658.8  2013\n",
      "27    Washington              93.2         7642.4  2013\n",
      "28  Philadelphia              93.2         7642.4  2013\n",
      "29       Chicago              93.0         7626.0  2013\n",
      "\n",
      "[210 rows x 4 columns]\n"
     ]
    }
   ],
   "source": [
    "years = [2019, 2018, 2017, 2016, 2015, 2014, 2013]\n",
    "points_scored_table = pd.DataFrame(columns = ['Team', 'Points_Scored_PG', 'Points_Scored', \n",
    "                                              'Year'])\n",
    "for year in years:\n",
    "    link = f'https://www.teamrankings.com/nba/stat/points-per-game?date={str(year)}-10-12'\n",
    "    tables = pd.read_html(link)\n",
    "    table = tables[0]\n",
    "    table = table[['Team', str(year-1)]]\n",
    "    table.columns = ['Team', 'Points_Scored_PG']\n",
    "    table['Points_Scored'] = table.Points_Scored_PG*82\n",
    "    table['Year'] = year\n",
    "    points_scored_table = points_scored_table.append(table)\n",
    "print(points_scored_table)"
   ]
  },
  {
   "cell_type": "code",
   "execution_count": 12,
   "metadata": {},
   "outputs": [
    {
     "name": "stderr",
     "output_type": "stream",
     "text": [
      "/Users/hsinger24/Desktop/Programming/anaconda3/lib/python3.7/site-packages/ipykernel_launcher.py:10: SettingWithCopyWarning: \n",
      "A value is trying to be set on a copy of a slice from a DataFrame.\n",
      "Try using .loc[row_indexer,col_indexer] = value instead\n",
      "\n",
      "See the caveats in the documentation: https://pandas.pydata.org/pandas-docs/stable/user_guide/indexing.html#returning-a-view-versus-a-copy\n",
      "  # Remove the CWD from sys.path while we load stuff.\n",
      "/Users/hsinger24/Desktop/Programming/anaconda3/lib/python3.7/site-packages/ipykernel_launcher.py:11: SettingWithCopyWarning: \n",
      "A value is trying to be set on a copy of a slice from a DataFrame.\n",
      "Try using .loc[row_indexer,col_indexer] = value instead\n",
      "\n",
      "See the caveats in the documentation: https://pandas.pydata.org/pandas-docs/stable/user_guide/indexing.html#returning-a-view-versus-a-copy\n",
      "  # This is added back by InteractiveShellApp.init_path()\n"
     ]
    },
    {
     "name": "stdout",
     "output_type": "stream",
     "text": [
      "          Team  Points_Allowed_PG  Points_Allowed  Year\n",
      "0      Indiana              104.4          8560.8  2019\n",
      "1        Miami              105.9          8683.8  2019\n",
      "2      Memphis              106.1          8700.2  2019\n",
      "3         Utah              106.5          8733.0  2019\n",
      "4      Orlando              106.6          8741.2  2019\n",
      "..         ...                ...             ...   ...\n",
      "25     Phoenix              101.6          8331.2  2013\n",
      "26      Dallas              101.7          8339.4  2013\n",
      "27   Charlotte              102.7          8421.4  2013\n",
      "28     Houston              102.7          8421.4  2013\n",
      "29  Sacramento              105.1          8618.2  2013\n",
      "\n",
      "[210 rows x 4 columns]\n"
     ]
    }
   ],
   "source": [
    "years = [2019, 2018, 2017, 2016, 2015, 2014, 2013]\n",
    "points_allowed_table = pd.DataFrame(columns = ['Team', 'Points_Allowed_PG', 'Points_Allowed', \n",
    "                                              'Year'])\n",
    "for year in years:\n",
    "    link = f'https://www.teamrankings.com/nba/stat/opponent-points-per-game?date={str(year)}-06-14'\n",
    "    tables = pd.read_html(link)\n",
    "    table = tables[0]\n",
    "    table = table[['Team', str(year-1)]]\n",
    "    table.columns = ['Team', 'Points_Allowed_PG']\n",
    "    table['Points_Allowed'] = table.Points_Allowed_PG*82\n",
    "    table['Year'] = year\n",
    "    points_allowed_table = points_allowed_table.append(table)\n",
    "print(points_allowed_table)"
   ]
  },
  {
   "cell_type": "code",
   "execution_count": 16,
   "metadata": {},
   "outputs": [
    {
     "name": "stderr",
     "output_type": "stream",
     "text": [
      "/Users/hsinger24/Desktop/Programming/anaconda3/lib/python3.7/site-packages/ipykernel_launcher.py:9: SettingWithCopyWarning: \n",
      "A value is trying to be set on a copy of a slice from a DataFrame.\n",
      "Try using .loc[row_indexer,col_indexer] = value instead\n",
      "\n",
      "See the caveats in the documentation: https://pandas.pydata.org/pandas-docs/stable/user_guide/indexing.html#returning-a-view-versus-a-copy\n",
      "  if __name__ == '__main__':\n"
     ]
    },
    {
     "name": "stdout",
     "output_type": "stream",
     "text": [
      "            Team  Win_Pct  Year\n",
      "0      Milwaukee    0.722  2019\n",
      "1        Toronto    0.698  2019\n",
      "2   Golden State    0.683  2019\n",
      "3         Denver    0.635  2019\n",
      "4        Houston    0.634  2019\n",
      "..           ...      ...   ...\n",
      "25   New Orleans    0.329  2013\n",
      "26       Phoenix    0.305  2013\n",
      "27     Cleveland    0.293  2013\n",
      "28     Charlotte    0.256  2013\n",
      "29       Orlando    0.244  2013\n",
      "\n",
      "[210 rows x 3 columns]\n"
     ]
    }
   ],
   "source": [
    "years = [2019, 2018, 2017, 2016, 2015, 2014, 2013]\n",
    "win_pct_table = pd.DataFrame(columns = ['Team', 'Win_Pct', 'Year'])\n",
    "for year in years:\n",
    "    link = f'https://www.teamrankings.com/nba/stat/win-pct-all-games?date={str(year)}-06-14'\n",
    "    tables = pd.read_html(link)\n",
    "    table = tables[0]\n",
    "    table = table[['Team', str(year-1)]]\n",
    "    table.columns = ['Team', 'Win_Pct']\n",
    "    table['Year'] = year\n",
    "    win_pct_table = win_pct_table.append(table)\n",
    "print(win_pct_table)"
   ]
  },
  {
   "cell_type": "code",
   "execution_count": 17,
   "metadata": {},
   "outputs": [
    {
     "data": {
      "text/html": [
       "<div>\n",
       "<style scoped>\n",
       "    .dataframe tbody tr th:only-of-type {\n",
       "        vertical-align: middle;\n",
       "    }\n",
       "\n",
       "    .dataframe tbody tr th {\n",
       "        vertical-align: top;\n",
       "    }\n",
       "\n",
       "    .dataframe thead th {\n",
       "        text-align: right;\n",
       "    }\n",
       "</style>\n",
       "<table border=\"1\" class=\"dataframe\">\n",
       "  <thead>\n",
       "    <tr style=\"text-align: right;\">\n",
       "      <th></th>\n",
       "      <th>Team</th>\n",
       "      <th>Year</th>\n",
       "      <th>Points_Scored</th>\n",
       "      <th>Points_Allowed</th>\n",
       "      <th>Point_Differential</th>\n",
       "      <th>Win_Pct</th>\n",
       "    </tr>\n",
       "  </thead>\n",
       "  <tbody>\n",
       "    <tr>\n",
       "      <th>0</th>\n",
       "      <td>Milwaukee</td>\n",
       "      <td>2019</td>\n",
       "      <td>9618.6</td>\n",
       "      <td>8888.8</td>\n",
       "      <td>729.8</td>\n",
       "      <td>0.722</td>\n",
       "    </tr>\n",
       "    <tr>\n",
       "      <th>1</th>\n",
       "      <td>Golden State</td>\n",
       "      <td>2019</td>\n",
       "      <td>9585.8</td>\n",
       "      <td>9110.2</td>\n",
       "      <td>475.6</td>\n",
       "      <td>0.683</td>\n",
       "    </tr>\n",
       "    <tr>\n",
       "      <th>2</th>\n",
       "      <td>New Orleans</td>\n",
       "      <td>2019</td>\n",
       "      <td>9462.8</td>\n",
       "      <td>9577.6</td>\n",
       "      <td>-114.8</td>\n",
       "      <td>0.402</td>\n",
       "    </tr>\n",
       "    <tr>\n",
       "      <th>3</th>\n",
       "      <td>LA Clippers</td>\n",
       "      <td>2019</td>\n",
       "      <td>9438.2</td>\n",
       "      <td>9430.0</td>\n",
       "      <td>8.2</td>\n",
       "      <td>0.568</td>\n",
       "    </tr>\n",
       "    <tr>\n",
       "      <th>4</th>\n",
       "      <td>Philadelphia</td>\n",
       "      <td>2019</td>\n",
       "      <td>9380.8</td>\n",
       "      <td>9151.2</td>\n",
       "      <td>229.6</td>\n",
       "      <td>0.617</td>\n",
       "    </tr>\n",
       "    <tr>\n",
       "      <th>...</th>\n",
       "      <td>...</td>\n",
       "      <td>...</td>\n",
       "      <td>...</td>\n",
       "      <td>...</td>\n",
       "      <td>...</td>\n",
       "      <td>...</td>\n",
       "    </tr>\n",
       "    <tr>\n",
       "      <th>205</th>\n",
       "      <td>Memphis</td>\n",
       "      <td>2013</td>\n",
       "      <td>7675.2</td>\n",
       "      <td>7380.0</td>\n",
       "      <td>295.2</td>\n",
       "      <td>0.660</td>\n",
       "    </tr>\n",
       "    <tr>\n",
       "      <th>206</th>\n",
       "      <td>Charlotte</td>\n",
       "      <td>2013</td>\n",
       "      <td>7658.8</td>\n",
       "      <td>8421.4</td>\n",
       "      <td>-762.6</td>\n",
       "      <td>0.256</td>\n",
       "    </tr>\n",
       "    <tr>\n",
       "      <th>207</th>\n",
       "      <td>Washington</td>\n",
       "      <td>2013</td>\n",
       "      <td>7642.4</td>\n",
       "      <td>7855.6</td>\n",
       "      <td>-213.2</td>\n",
       "      <td>0.354</td>\n",
       "    </tr>\n",
       "    <tr>\n",
       "      <th>208</th>\n",
       "      <td>Philadelphia</td>\n",
       "      <td>2013</td>\n",
       "      <td>7642.4</td>\n",
       "      <td>7913.0</td>\n",
       "      <td>-270.6</td>\n",
       "      <td>0.415</td>\n",
       "    </tr>\n",
       "    <tr>\n",
       "      <th>209</th>\n",
       "      <td>Chicago</td>\n",
       "      <td>2013</td>\n",
       "      <td>7626.0</td>\n",
       "      <td>7675.2</td>\n",
       "      <td>-49.2</td>\n",
       "      <td>0.532</td>\n",
       "    </tr>\n",
       "  </tbody>\n",
       "</table>\n",
       "<p>210 rows × 6 columns</p>\n",
       "</div>"
      ],
      "text/plain": [
       "             Team  Year  Points_Scored  Points_Allowed  Point_Differential  \\\n",
       "0       Milwaukee  2019         9618.6          8888.8               729.8   \n",
       "1    Golden State  2019         9585.8          9110.2               475.6   \n",
       "2     New Orleans  2019         9462.8          9577.6              -114.8   \n",
       "3     LA Clippers  2019         9438.2          9430.0                 8.2   \n",
       "4    Philadelphia  2019         9380.8          9151.2               229.6   \n",
       "..            ...   ...            ...             ...                 ...   \n",
       "205       Memphis  2013         7675.2          7380.0               295.2   \n",
       "206     Charlotte  2013         7658.8          8421.4              -762.6   \n",
       "207    Washington  2013         7642.4          7855.6              -213.2   \n",
       "208  Philadelphia  2013         7642.4          7913.0              -270.6   \n",
       "209       Chicago  2013         7626.0          7675.2               -49.2   \n",
       "\n",
       "     Win_Pct  \n",
       "0      0.722  \n",
       "1      0.683  \n",
       "2      0.402  \n",
       "3      0.568  \n",
       "4      0.617  \n",
       "..       ...  \n",
       "205    0.660  \n",
       "206    0.256  \n",
       "207    0.354  \n",
       "208    0.415  \n",
       "209    0.532  \n",
       "\n",
       "[210 rows x 6 columns]"
      ]
     },
     "execution_count": 17,
     "metadata": {},
     "output_type": "execute_result"
    }
   ],
   "source": [
    "merged = pd.merge(points_scored_table, points_allowed_table, on = ['Team', 'Year'], how = 'inner')\n",
    "merged = merged[['Team', 'Year', 'Points_Scored', 'Points_Allowed']]\n",
    "merged['Point_Differential'] = merged.Points_Scored - merged.Points_Allowed\n",
    "merged = pd.merge(merged, win_pct_table, on = ['Team', 'Year'], how = 'inner')\n",
    "merged"
   ]
  },
  {
   "cell_type": "code",
   "execution_count": 22,
   "metadata": {},
   "outputs": [
    {
     "name": "stdout",
     "output_type": "stream",
     "text": [
      "The y-intercept is:  0.49917162280942995\n",
      "The slope is:  [0.00038299]\n",
      "The r-squared is:  0.9378134415729759\n"
     ]
    }
   ],
   "source": [
    "x = merged[['Point_Differential']]\n",
    "y = merged.Win_Pct\n",
    "model = LinearRegression()\n",
    "model.fit(x,y)\n",
    "r_squared = model.score(x,y)\n",
    "print('The y-intercept is: ', model.intercept_)\n",
    "print('The slope is: ', model.coef_)\n",
    "print('The r-squared is: ', r_squared)"
   ]
  },
  {
   "cell_type": "code",
   "execution_count": 25,
   "metadata": {},
   "outputs": [],
   "source": [
    "file_name = 'Model_Build/Data/win_pct_regression.pickle'\n",
    "with open(file_name, 'wb') as f:\n",
    "    pickle.dump(model, f)"
   ]
  },
  {
   "cell_type": "code",
   "execution_count": null,
   "metadata": {},
   "outputs": [],
   "source": []
  }
 ],
 "metadata": {
  "kernelspec": {
   "display_name": "Python 3",
   "language": "python",
   "name": "python3"
  },
  "language_info": {
   "codemirror_mode": {
    "name": "ipython",
    "version": 3
   },
   "file_extension": ".py",
   "mimetype": "text/x-python",
   "name": "python",
   "nbconvert_exporter": "python",
   "pygments_lexer": "ipython3",
   "version": "3.7.6"
  }
 },
 "nbformat": 4,
 "nbformat_minor": 4
}
