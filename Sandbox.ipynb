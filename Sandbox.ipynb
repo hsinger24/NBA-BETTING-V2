{
 "cells": [
  {
   "cell_type": "code",
   "execution_count": 8,
   "metadata": {},
   "outputs": [],
   "source": [
    "import pandas as pd\n",
    "import numpy as np\n",
    "from selenium import webdriver\n",
    "from selenium.webdriver.common.keys import Keys\n",
    "from selenium.webdriver.chrome.options import Options\n",
    "from selenium.webdriver.common.by import By\n",
    "from selenium.webdriver.support import expected_conditions as EC\n",
    "from selenium.webdriver.support.ui import WebDriverWait\n",
    "from selenium.webdriver.support.ui import Select\n",
    "from webdriver_manager.chrome import ChromeDriverManager\n",
    "from selenium.webdriver.common.action_chains import ActionChains\n",
    "from selenium.webdriver.support.ui import Select\n",
    "from sklearn.linear_model import LinearRegression\n",
    "from nba_api.stats.static import players\n",
    "import pickle\n",
    "import unidecode\n",
    "from bs4 import BeautifulSoup\n",
    "import requests\n",
    "import time\n",
    "import matplotlib.pyplot as plt\n",
    "import datetime as dt\n",
    "import re\n",
    "\n",
    "today = dt.date.today()\n",
    "today_month = today.month\n",
    "if (today_month > 7):\n",
    "    current_year = today.year + 1\n",
    "else:\n",
    "    current_year = today.year"
   ]
  },
  {
   "cell_type": "code",
   "execution_count": 28,
   "metadata": {},
   "outputs": [],
   "source": [
    "team_map_results = {\n",
    "    'LAL' : 'Los Angeles Lakers',\n",
    "    'LAC' : 'Los Angeles Clippers',\n",
    "    'POR' : 'Portland Trailblazers',\n",
    "    'CLE' : 'Cleveland Cavaliers',\n",
    "    'DEN' : 'Denver Nuggets',\n",
    "    'DAL' : 'Dallas Mavericks',\n",
    "    'UTA' : 'Utah Jazz',\n",
    "    'SA' : 'San Antonio Spurs',\n",
    "    'ATL' : 'Atlanta Hawks',\n",
    "    'CHA' : 'Charlotte Hornets',\n",
    "    'CHI' : 'Chicago Bulls',\n",
    "    'DET' : 'Detroit Pistons',\n",
    "    'MIL' : 'Milwaukee Bucks',\n",
    "    'ORL' : 'Orlando Magic',\n",
    "    'MIN' : 'Minnesota Timberwolves',\n",
    "    'PHO' : 'Phoenix Suns',\n",
    "    'BOS' : 'Boston Celtics',\n",
    "    'IND' : 'Indiana Pacers',\n",
    "    'SAC' : 'Sacramento Kings',\n",
    "    'TOR' : 'Toronto Raptors',\n",
    "    'WAS' : 'Washington Wizards',\n",
    "    'BKN' : 'Brooklyn Nets',\n",
    "    'NO' : 'New Orleans Pelicans',\n",
    "    'DAL' : 'Dallas Mavericks',\n",
    "    'PHI' : 'Philadelphia 76ers',\n",
    "    'MIA' : 'Miami Heat',\n",
    "    'MEM' : 'Memphis Grizzlies',\n",
    "    'GS' : 'Golden State Warriors',\n",
    "    'NY' : 'New York Knicks',\n",
    "    'HOU' : 'Houston Rockets',\n",
    "    'OKC' : 'Oklahoma City Thunder'\n",
    "}"
   ]
  },
  {
   "cell_type": "code",
   "execution_count": 23,
   "metadata": {},
   "outputs": [
    {
     "name": "stderr",
     "output_type": "stream",
     "text": [
      "\n",
      "\n",
      "====== WebDriver manager ======\n",
      "Current google-chrome version is 98.0.4758\n",
      "Get LATEST driver version for 98.0.4758\n",
      "Driver [/Users/hsinger24/.wdm/drivers/chromedriver/mac64/98.0.4758.80/chromedriver] found in cache\n"
     ]
    }
   ],
   "source": [
    "# Instantiating selenium driver\n",
    "link = 'https://www.cbssports.com/nba/schedule/'\n",
    "driver = webdriver.Chrome(ChromeDriverManager().install())\n",
    "driver.get(link)"
   ]
  },
  {
   "cell_type": "code",
   "execution_count": 24,
   "metadata": {},
   "outputs": [],
   "source": [
    "# Getting table for yesterday's games and formatting\n",
    "day_buttons = driver.find_elements_by_class_name(\"ToggleContainer-text\")\n",
    "yesterday = day_buttons[0]\n",
    "yesterday.click()\n",
    "WebDriverWait(driver, 20).until(EC.visibility_of_element_located((By.XPATH, \"//*[@id='TableBase']/div/div/table\")))\n",
    "html_yesterday = driver.page_source\n",
    "tables_yesterday = pd.read_html(html_yesterday)\n",
    "try:\n",
    "    yesterday_schedule = tables_yesterday[1]\n",
    "except:\n",
    "    yesterday_schedule = tables_yesterday[0]\n",
    "yesterday_schedule = yesterday_schedule[['Away', 'Home', 'Result']]\n",
    "\n",
    "# Populating yesterday's schedule w/ winner\n",
    "score_regex = '\\d{2,3}'\n",
    "test_subject = yesterday_schedule.iloc[0, 2]\n",
    "yesterday_schedule['Winner'] = ''\n",
    "for index, row in yesterday_schedule.iterrows():\n",
    "    winner = row.Result[:3]\n",
    "    yesterday_schedule.loc[index, 'Winner'] = winner\n",
    "yesterday_schedule['Winner'] = yesterday_schedule.Winner.apply(lambda x: team_map_results[x])\n",
    "yesterday_schedule"
   ]
  },
  {
   "cell_type": "code",
   "execution_count": null,
   "metadata": {},
   "outputs": [],
   "source": []
  },
  {
   "cell_type": "code",
   "execution_count": null,
   "metadata": {},
   "outputs": [],
   "source": []
  }
 ],
 "metadata": {
  "kernelspec": {
   "display_name": "Python 3",
   "language": "python",
   "name": "python3"
  },
  "language_info": {
   "codemirror_mode": {
    "name": "ipython",
    "version": 3
   },
   "file_extension": ".py",
   "mimetype": "text/x-python",
   "name": "python",
   "nbconvert_exporter": "python",
   "pygments_lexer": "ipython3",
   "version": "3.7.6"
  }
 },
 "nbformat": 4,
 "nbformat_minor": 4
}
