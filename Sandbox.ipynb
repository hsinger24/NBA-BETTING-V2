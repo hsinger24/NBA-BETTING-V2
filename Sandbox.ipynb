{
 "cells": [
  {
   "cell_type": "code",
   "execution_count": 2,
   "metadata": {},
   "outputs": [],
   "source": [
    "import pandas as pd\n",
    "import numpy as np\n",
    "from selenium import webdriver\n",
    "from selenium.webdriver.common.keys import Keys\n",
    "from selenium.webdriver.chrome.options import Options\n",
    "from selenium.webdriver.common.by import By\n",
    "from selenium.webdriver.support import expected_conditions as EC\n",
    "from selenium.webdriver.support.ui import WebDriverWait\n",
    "from selenium.webdriver.support.ui import Select\n",
    "from webdriver_manager.chrome import ChromeDriverManager\n",
    "from selenium.webdriver.common.action_chains import ActionChains\n",
    "from sklearn.linear_model import LinearRegression\n",
    "import pickle\n",
    "import unidecode\n",
    "from bs4 import BeautifulSoup\n",
    "import requests\n",
    "import time\n",
    "import matplotlib.pyplot as plt"
   ]
  },
  {
   "cell_type": "code",
   "execution_count": 3,
   "metadata": {},
   "outputs": [],
   "source": [
    "prior_year_vorps = pd.read_csv('In_Season/Data/prior_year_vorps.csv', index_col = 0)\n",
    "prior_year_vorps = prior_year_vorps[prior_year_vorps.Team != 'TOT']\n",
    "\n",
    "predicted_vorps = pd.read_csv('In_Season/Data/opening_day_vorps.csv', index_col = 0)\n",
    "\n",
    "prior_year_differential = pd.read_csv('In_Season/Data/prior_year_adjusted_win_pct.csv', index_col = 0)"
   ]
  },
  {
   "cell_type": "code",
   "execution_count": 8,
   "metadata": {},
   "outputs": [
    {
     "data": {
      "text/plain": [
       "array(['Utah Jazz', 'Los Angeles Clippers', 'Phoenix Suns',\n",
       "       'Milwaukee Bucks', 'Philadelphia 76ers', 'Denver Nuggets',\n",
       "       'Brooklyn Nets', 'Los Angeles Lakers', 'Dallas Mavericks',\n",
       "       'New York Knicks', 'Atlanta Hawks', 'Portland Trail Blazers',\n",
       "       'Boston Celtics', 'Golden State Warriors', 'Memphis Grizzlies',\n",
       "       'Miami Heat', 'Indiana Pacers', 'New Orleans Pelicans',\n",
       "       'Toronto Raptors', 'Chicago Bulls', 'San Antonio Spurs',\n",
       "       'Washington Wizards', 'Charlotte Hornets', 'Sacramento Kings',\n",
       "       'Detroit Pistons', 'Minnesota Timberwolves', 'Houston Rockets',\n",
       "       'Cleveland Cavaliers', 'Orlando Magic', 'Oklahoma City Thunder'],\n",
       "      dtype=object)"
      ]
     },
     "execution_count": 8,
     "metadata": {},
     "output_type": "execute_result"
    }
   ],
   "source": [
    "prior_year_differential.Team.unique()"
   ]
  },
  {
   "cell_type": "code",
   "execution_count": null,
   "metadata": {},
   "outputs": [],
   "source": []
  }
 ],
 "metadata": {
  "kernelspec": {
   "display_name": "Python 3",
   "language": "python",
   "name": "python3"
  },
  "language_info": {
   "codemirror_mode": {
    "name": "ipython",
    "version": 3
   },
   "file_extension": ".py",
   "mimetype": "text/x-python",
   "name": "python",
   "nbconvert_exporter": "python",
   "pygments_lexer": "ipython3",
   "version": "3.7.6"
  }
 },
 "nbformat": 4,
 "nbformat_minor": 4
}
