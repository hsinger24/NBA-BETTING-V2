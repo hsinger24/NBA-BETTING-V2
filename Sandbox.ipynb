{
 "cells": [
  {
   "cell_type": "code",
   "execution_count": 1,
   "metadata": {},
   "outputs": [],
   "source": [
    "import pandas as pd\n",
    "import numpy as np\n",
    "from selenium import webdriver\n",
    "from selenium.webdriver.common.keys import Keys\n",
    "from selenium.webdriver.chrome.options import Options\n",
    "from selenium.webdriver.common.by import By\n",
    "from selenium.webdriver.support import expected_conditions as EC\n",
    "from selenium.webdriver.support.ui import WebDriverWait\n",
    "from selenium.webdriver.support.ui import Select\n",
    "from webdriver_manager.chrome import ChromeDriverManager\n",
    "from selenium.webdriver.common.action_chains import ActionChains\n",
    "from selenium.webdriver.support.ui import Select\n",
    "from sklearn.linear_model import LinearRegression\n",
    "from nba_api.stats.static import players\n",
    "import pickle\n",
    "import unidecode\n",
    "from bs4 import BeautifulSoup\n",
    "import requests\n",
    "import time\n",
    "import matplotlib.pyplot as plt\n",
    "import datetime as dt\n",
    "import re\n",
    "import email, smtplib, ssl\n",
    "from email import encoders\n",
    "from email.mime.base import MIMEBase\n",
    "from email.mime.multipart import MIMEMultipart\n",
    "from email.mime.text import MIMEText\n",
    "\n",
    "today = dt.date.today()\n",
    "today_month = today.month\n",
    "if (today_month > 7):\n",
    "    current_year = today.year + 1\n",
    "else:\n",
    "    current_year = today.year"
   ]
  },
  {
   "cell_type": "code",
   "execution_count": 5,
   "metadata": {},
   "outputs": [],
   "source": [
    "bets = pd.read_csv('In_Season/Data/todays_bets.csv', index_col = 0)\n",
    "# bets.drop([6], inplace = True)\n",
    "# bets.reset_index(inplace = True, drop = True)\n",
    "# bets.to_csv('In_Season/Data/todays_bets.csv')"
   ]
  },
  {
   "cell_type": "code",
   "execution_count": 7,
   "metadata": {},
   "outputs": [],
   "source": [
    "results = pd.read_csv('In_Season/Data/results_tracker.csv', index_col = 0)\n",
    "# results = results[results.Date != '2022-02-15']\n",
    "# results.to_csv('In_Season/Data/results_tracker.csv')"
   ]
  },
  {
   "cell_type": "code",
   "execution_count": 19,
   "metadata": {},
   "outputs": [],
   "source": [
    "external_bets = pd.read_csv('In_Season/Data/todays_bets_external.csv')"
   ]
  }
 ],
 "metadata": {
  "kernelspec": {
   "display_name": "Python 3",
   "language": "python",
   "name": "python3"
  },
  "language_info": {
   "codemirror_mode": {
    "name": "ipython",
    "version": 3
   },
   "file_extension": ".py",
   "mimetype": "text/x-python",
   "name": "python",
   "nbconvert_exporter": "python",
   "pygments_lexer": "ipython3",
   "version": "3.7.6"
  }
 },
 "nbformat": 4,
 "nbformat_minor": 4
}
