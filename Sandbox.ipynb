{
 "cells": [
  {
   "cell_type": "code",
   "execution_count": 98,
   "metadata": {},
   "outputs": [
    {
     "ename": "ModuleNotFoundError",
     "evalue": "No module named 'Model_Build.Functions'",
     "output_type": "error",
     "traceback": [
      "\u001b[0;31m---------------------------------------------------------------------------\u001b[0m",
      "\u001b[0;31mModuleNotFoundError\u001b[0m                       Traceback (most recent call last)",
      "\u001b[0;32m<ipython-input-98-bfac27c4db34>\u001b[0m in \u001b[0;36m<module>\u001b[0;34m\u001b[0m\n\u001b[1;32m     10\u001b[0m \u001b[0;32mfrom\u001b[0m \u001b[0mwebdriver_manager\u001b[0m\u001b[0;34m.\u001b[0m\u001b[0mchrome\u001b[0m \u001b[0;32mimport\u001b[0m \u001b[0mChromeDriverManager\u001b[0m\u001b[0;34m\u001b[0m\u001b[0;34m\u001b[0m\u001b[0m\n\u001b[1;32m     11\u001b[0m \u001b[0;32mfrom\u001b[0m \u001b[0mselenium\u001b[0m\u001b[0;34m.\u001b[0m\u001b[0mwebdriver\u001b[0m\u001b[0;34m.\u001b[0m\u001b[0mcommon\u001b[0m\u001b[0;34m.\u001b[0m\u001b[0maction_chains\u001b[0m \u001b[0;32mimport\u001b[0m \u001b[0mActionChains\u001b[0m\u001b[0;34m\u001b[0m\u001b[0;34m\u001b[0m\u001b[0m\n\u001b[0;32m---> 12\u001b[0;31m \u001b[0;32mfrom\u001b[0m \u001b[0mModel_Build\u001b[0m\u001b[0;34m.\u001b[0m\u001b[0mFunctions\u001b[0m \u001b[0;32mimport\u001b[0m \u001b[0;34m*\u001b[0m\u001b[0;34m\u001b[0m\u001b[0;34m\u001b[0m\u001b[0m\n\u001b[0m",
      "\u001b[0;31mModuleNotFoundError\u001b[0m: No module named 'Model_Build.Functions'"
     ]
    }
   ],
   "source": [
    "import pandas as pd\n",
    "import numpy as np\n",
    "from selenium import webdriver\n",
    "from selenium.webdriver.common.keys import Keys\n",
    "from selenium.webdriver.chrome.options import Options\n",
    "from selenium.webdriver.common.by import By\n",
    "from selenium.webdriver.support import expected_conditions as EC\n",
    "from selenium.webdriver.support.ui import WebDriverWait\n",
    "from selenium.webdriver.support.ui import Select\n",
    "from webdriver_manager.chrome import ChromeDriverManager\n",
    "from selenium.webdriver.common.action_chains import ActionChains\n",
    "from Model_Build.Functions import *"
   ]
  },
  {
   "cell_type": "code",
   "execution_count": 87,
   "metadata": {},
   "outputs": [],
   "source": [
    "team_map = {\n",
    "    'TOR' : 'Toronto Raptors',\n",
    "    'MEM' : 'Memphis Grizzlies',\n",
    "    'MIA' : 'Miami Heat',\n",
    "    'BRK' : 'Brooklyn Nets',\n",
    "    'NOP' : 'New Orleans Pelicans',\n",
    "    'MIL' : 'Milwaukee Bucks',\n",
    "    'CLE' : 'Cleveland Cavaliers',\n",
    "    'LAL' : 'Los Angeles Lakers',\n",
    "    'ORL' : 'Orlando Magic',\n",
    "    'HOU' : 'Houston Rockets',\n",
    "    'WAS' : 'Washington Wizards',\n",
    "    'PHO' : 'Phoenix Suns',\n",
    "    'UTA' : 'Utah Jazz',\n",
    "    'SAC' : 'Sacramento Kings',\n",
    "    'CHO' : 'Charlotte Hornets',\n",
    "    'CHI' : 'Chicago Bulls',\n",
    "    'ATL' : 'Atlanta Hawks',\n",
    "    'NYK' : 'New York Knicks',\n",
    "    'DEN' : 'Denver Nuggets',\n",
    "    'PHI' : 'Philadelphia 76ers',\n",
    "    'SAS' : 'Sacramento Kings',\n",
    "    'LAC' : 'Los Angeles Clippers',\n",
    "    'OKC' : 'Oklahoma City Thunder',\n",
    "    'MIN' : 'Minnesota Timberwolves',\n",
    "    'DET' : 'Detroit Pistons',\n",
    "    'IND' : 'Indiana Pacers',\n",
    "    'GSW' : 'Golden State Warriors',\n",
    "    'POR' : 'Portland Trailblazers',\n",
    "    'DAL' : 'Dallas Mavericks',\n",
    "    'TOT' : 'Toronto Raptors',\n",
    "    'BOS' : 'Boston Celtics'\n",
    "}"
   ]
  },
  {
   "cell_type": "code",
   "execution_count": 94,
   "metadata": {},
   "outputs": [],
   "source": [
    "tables = pd.read_html('https://www.basketball-reference.com/leagues/NBA_2022_advanced.html')\n",
    "table = tables[0]\n",
    "table = table[['Player', 'Tm', 'VORP']]\n",
    "table.columns = ['Player', 'Team', 'VORP']\n",
    "table = table[table.Team != 'Tm']\n",
    "table.Team.unique()\n",
    "table['Team'] = table.Team.apply(lambda x: team_map[x])\n",
    "table['VORP'] = table.VORP.apply(pd.to_numeric)\n",
    "team_vorp = table.groupby('Team')['VORP'].sum()"
   ]
  },
  {
   "cell_type": "code",
   "execution_count": 95,
   "metadata": {},
   "outputs": [
    {
     "data": {
      "text/plain": [
       "Team\n",
       "Atlanta Hawks             4.100000e+00\n",
       "Boston Celtics            4.900000e+00\n",
       "Brooklyn Nets             5.100000e+00\n",
       "Charlotte Hornets         3.900000e+00\n",
       "Chicago Bulls             5.100000e+00\n",
       "Cleveland Cavaliers       6.900000e+00\n",
       "Dallas Mavericks          3.800000e+00\n",
       "Denver Nuggets            4.000000e+00\n",
       "Detroit Pistons          -5.000000e-01\n",
       "Golden State Warriors     8.400000e+00\n",
       "Houston Rockets           1.000000e-01\n",
       "Indiana Pacers            4.200000e+00\n",
       "Los Angeles Clippers      3.900000e+00\n",
       "Los Angeles Lakers        2.900000e+00\n",
       "Memphis Grizzlies         5.400000e+00\n",
       "Miami Heat                5.700000e+00\n",
       "Milwaukee Bucks           5.400000e+00\n",
       "Minnesota Timberwolves    4.200000e+00\n",
       "New Orleans Pelicans      1.800000e+00\n",
       "New York Knicks           3.600000e+00\n",
       "Oklahoma City Thunder     2.000000e-01\n",
       "Orlando Magic             2.498002e-16\n",
       "Philadelphia 76ers        4.000000e+00\n",
       "Phoenix Suns              7.200000e+00\n",
       "Portland Trailblazers     3.100000e+00\n",
       "Sacramento Kings          6.800000e+00\n",
       "Toronto Raptors           3.100000e+00\n",
       "Utah Jazz                 8.300000e+00\n",
       "Washington Wizards        3.100000e+00\n",
       "Name: VORP, dtype: float64"
      ]
     },
     "execution_count": 95,
     "metadata": {},
     "output_type": "execute_result"
    }
   ],
   "source": [
    "team_vorp"
   ]
  },
  {
   "cell_type": "code",
   "execution_count": null,
   "metadata": {},
   "outputs": [],
   "source": []
  }
 ],
 "metadata": {
  "kernelspec": {
   "display_name": "Python 3",
   "language": "python",
   "name": "python3"
  },
  "language_info": {
   "codemirror_mode": {
    "name": "ipython",
    "version": 3
   },
   "file_extension": ".py",
   "mimetype": "text/x-python",
   "name": "python",
   "nbconvert_exporter": "python",
   "pygments_lexer": "ipython3",
   "version": "3.7.6"
  }
 },
 "nbformat": 4,
 "nbformat_minor": 4
}
